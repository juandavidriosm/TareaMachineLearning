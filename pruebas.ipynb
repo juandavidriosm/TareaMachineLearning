{
 "cells": [
  {
   "cell_type": "code",
   "execution_count": 1,
   "metadata": {},
   "outputs": [],
   "source": [
    "from sklearn.preprocessing import OrdinalEncoder, OneHotEncoder,TargetEncoder"
   ]
  },
  {
   "cell_type": "code",
   "execution_count": null,
   "metadata": {},
   "outputs": [],
   "source": [
    "X = pd.read_csv(\"In/Training_set_values.csv\")#uso X y Y frescas \n",
    "y = pd.read_csv(\"In/Training_set_labels.csv\")\n",
    "    \n",
    "X,y = preprocess(X,y)\n",
    "num_cols = X.select_dtypes(include=np.number).columns.tolist()\n",
    "\n",
    "OrdinalEncoder_cols = X.select_dtypes(exclude=np.number).columns.tolist()\n",
    "OnehotEnc_cols = []\n",
    "TargetEnc_cols = []\n",
    "WOEENC_cols = []# no creo que sus resultados varíen mucho del TargetEnc_cols\n",
    "FrequencyEnc_cols = [] #busca category encoders\n",
    "\n",
    "preprocessing = ColumnTransformer([\n",
    "        ('ordinal', OrdinalEncoder(handle_unknown=\"use_encoded_value\",\n",
    "                                    unknown_value=10000000,\n",
    "                                    encoded_missing_value =10000001,\n",
    "                                    min_frequency = 0.01), OrdinalEncoder_cols),\n",
    "        #arreglar:\n",
    "        ('onehot', OneHotEncoder(max_categories=7,# Si existen más de 6 valores únicos crea categoría \"infrequent\"\n",
    "                                    handle_unknown =\"infrequent_if_exist\",\n",
    "                                    drop=\"first\"), OnehotEnc_cols),\n",
    "\n",
    "        ('target', TargetEncoder(target_type=\"multiclass\",\n",
    "                                    cv=2,), TargetEnc_cols),  # default cv 5 me tardaría una eternidad\n",
    "                                    \n",
    "        ('WOE', WOEEncoder(handle_unknown=\"value\",# da 0\n",
    "                                    handle_missing=\"value\"), WOEENC_cols),  \n",
    "\n",
    "        ('Frequency', CountEncoder(handle_unknown=\"value\",\n",
    "                                    handle_missing=\"value\"), FrequencyEnc_cols),                             \n",
    "        ('scaler', StandardScaler(), num_cols),  \n",
    "    ],\n",
    "    remainder = \"passthrough\",\n",
    "    )\n",
    "\n",
    "X = pd.DataFrame(data=preprocessing.fit_transform(X,y=y.status_group.values), columns=preprocessing.get_feature_names_out())\n",
    "print(\"llegó\")\n",
    "rf = RandomForestClassifier()\n",
    "rf.fit(X,y.status_group)\n"
   ]
  }
 ],
 "metadata": {
  "kernelspec": {
   "display_name": "base",
   "language": "python",
   "name": "python3"
  },
  "language_info": {
   "codemirror_mode": {
    "name": "ipython",
    "version": 3
   },
   "file_extension": ".py",
   "mimetype": "text/x-python",
   "name": "python",
   "nbconvert_exporter": "python",
   "pygments_lexer": "ipython3",
   "version": "3.11.8"
  }
 },
 "nbformat": 4,
 "nbformat_minor": 2
}
