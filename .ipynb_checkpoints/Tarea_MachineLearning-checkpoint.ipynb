{
 "cells": [
  {
   "cell_type": "code",
   "execution_count": 1,
   "id": "c7023d01-fd80-4a9a-9512-2243367748a6",
   "metadata": {},
   "outputs": [],
   "source": [
    "import polars as pl"
   ]
  },
  {
   "cell_type": "code",
   "execution_count": 5,
   "id": "4d3c0342-b327-4dd8-9a1c-d9141111d7b2",
   "metadata": {},
   "outputs": [],
   "source": [
    "df = pl.read_csv(\"In/Training_set_values.csv\")"
   ]
  },
  {
   "cell_type": "code",
   "execution_count": null,
   "id": "485a51b9-07bd-4bc6-bdd3-8d8aad02c1c4",
   "metadata": {},
   "outputs": [],
   "source": []
  }
 ],
 "metadata": {
  "kernelspec": {
   "display_name": "Python 3 (ipykernel)",
   "language": "python",
   "name": "python3"
  },
  "language_info": {
   "codemirror_mode": {
    "name": "ipython",
    "version": 3
   },
   "file_extension": ".py",
   "mimetype": "text/x-python",
   "name": "python",
   "nbconvert_exporter": "python",
   "pygments_lexer": "ipython3",
   "version": "3.11.5"
  }
 },
 "nbformat": 4,
 "nbformat_minor": 5
}
