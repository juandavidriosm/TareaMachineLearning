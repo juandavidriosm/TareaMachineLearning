{
 "cells": [
  {
   "cell_type": "code",
   "execution_count": 11,
   "id": "c7023d01-fd80-4a9a-9512-2243367748a6",
   "metadata": {},
   "outputs": [],
   "source": [
    "import numpy as np\n",
    "import pandas as pd\n",
    "\n",
    "import matplotlib.pyplot as plt\n",
    "import seaborn as sns\n",
    "\n",
    "\n",
    "import jd\n",
    "\n",
    "from sklearn.preprocessing import OrdinalEncoder,LabelEncoder\n",
    "from category_encoders import TargetEncoder\n",
    "from sklearn.compose import ColumnTransformer\n",
    "from sklearn.pipeline import Pipeline\n",
    "from sklearn.impute import SimpleImputer\n",
    "from sklearn.ensemble import RandomForestClassifier, GradientBoostingClassifier\n",
    "from sklearn.preprocessing import StandardScaler\n",
    "\n",
    "from imblearn.over_sampling import SMOTE, BorderlineSMOTE\n"
   ]
  },
  {
   "cell_type": "code",
   "execution_count": 2,
   "id": "4294dccb",
   "metadata": {},
   "outputs": [],
   "source": [
    "import pycaret\n",
    "from pycaret.classification import *"
   ]
  },
  {
   "cell_type": "code",
   "execution_count": 3,
   "id": "4d3c0342-b327-4dd8-9a1c-d9141111d7b2",
   "metadata": {},
   "outputs": [],
   "source": [
    "X = pd.read_csv(\"In/Training_set_values.csv\")\n",
    "y = pd.read_csv(\"In/Training_set_labels.csv\")\n",
    "X_test = pd.read_csv(\"In/Test_set_values.csv\")\n",
    "df = pd.merge(X,y,on=\"id\")"
   ]
  },
  {
   "cell_type": "code",
   "execution_count": 4,
   "id": "401c6f71",
   "metadata": {},
   "outputs": [],
   "source": [
    "from sklearn.preprocessing import LabelEncoder\n",
    "le = LabelEncoder()\n",
    "df.status_group = le.fit_transform(df.status_group)\n"
   ]
  },
  {
   "cell_type": "code",
   "execution_count": 5,
   "id": "652f0d1a",
   "metadata": {},
   "outputs": [],
   "source": [
    "for i,j in df.dtypes.items():\n",
    "    if j == \"object\":\n",
    "        df[i] = df[i].astype(\"category\")"
   ]
  },
  {
   "cell_type": "code",
   "execution_count": 6,
   "id": "ef4e765a",
   "metadata": {},
   "outputs": [
    {
     "data": {
      "text/plain": [
       "id                          int64\n",
       "amount_tsh                float64\n",
       "date_recorded            category\n",
       "funder                   category\n",
       "gps_height                  int64\n",
       "installer                category\n",
       "longitude                 float64\n",
       "latitude                  float64\n",
       "wpt_name                 category\n",
       "num_private                 int64\n",
       "basin                    category\n",
       "subvillage               category\n",
       "region                   category\n",
       "region_code                 int64\n",
       "district_code               int64\n",
       "lga                      category\n",
       "ward                     category\n",
       "population                  int64\n",
       "public_meeting           category\n",
       "recorded_by              category\n",
       "scheme_management        category\n",
       "scheme_name              category\n",
       "permit                   category\n",
       "construction_year           int64\n",
       "extraction_type          category\n",
       "extraction_type_group    category\n",
       "extraction_type_class    category\n",
       "management               category\n",
       "management_group         category\n",
       "payment                  category\n",
       "payment_type             category\n",
       "water_quality            category\n",
       "quality_group            category\n",
       "quantity                 category\n",
       "quantity_group           category\n",
       "source                   category\n",
       "source_type              category\n",
       "source_class             category\n",
       "waterpoint_type          category\n",
       "waterpoint_type_group    category\n",
       "status_group                int64\n",
       "dtype: object"
      ]
     },
     "execution_count": 6,
     "metadata": {},
     "output_type": "execute_result"
    }
   ],
   "source": [
    "df.dtypes"
   ]
  },
  {
   "cell_type": "code",
   "execution_count": 7,
   "id": "17cc8276",
   "metadata": {},
   "outputs": [
    {
     "data": {
      "text/html": [
       "<style type=\"text/css\">\n",
       "#T_24be0_row11_col1 {\n",
       "  background-color: lightgreen;\n",
       "}\n",
       "</style>\n",
       "<table id=\"T_24be0\">\n",
       "  <thead>\n",
       "    <tr>\n",
       "      <th class=\"blank level0\" >&nbsp;</th>\n",
       "      <th id=\"T_24be0_level0_col0\" class=\"col_heading level0 col0\" >Description</th>\n",
       "      <th id=\"T_24be0_level0_col1\" class=\"col_heading level0 col1\" >Value</th>\n",
       "    </tr>\n",
       "  </thead>\n",
       "  <tbody>\n",
       "    <tr>\n",
       "      <th id=\"T_24be0_level0_row0\" class=\"row_heading level0 row0\" >0</th>\n",
       "      <td id=\"T_24be0_row0_col0\" class=\"data row0 col0\" >Session id</td>\n",
       "      <td id=\"T_24be0_row0_col1\" class=\"data row0 col1\" >2872</td>\n",
       "    </tr>\n",
       "    <tr>\n",
       "      <th id=\"T_24be0_level0_row1\" class=\"row_heading level0 row1\" >1</th>\n",
       "      <td id=\"T_24be0_row1_col0\" class=\"data row1 col0\" >Target</td>\n",
       "      <td id=\"T_24be0_row1_col1\" class=\"data row1 col1\" >status_group</td>\n",
       "    </tr>\n",
       "    <tr>\n",
       "      <th id=\"T_24be0_level0_row2\" class=\"row_heading level0 row2\" >2</th>\n",
       "      <td id=\"T_24be0_row2_col0\" class=\"data row2 col0\" >Target type</td>\n",
       "      <td id=\"T_24be0_row2_col1\" class=\"data row2 col1\" >Multiclass</td>\n",
       "    </tr>\n",
       "    <tr>\n",
       "      <th id=\"T_24be0_level0_row3\" class=\"row_heading level0 row3\" >3</th>\n",
       "      <td id=\"T_24be0_row3_col0\" class=\"data row3 col0\" >Original data shape</td>\n",
       "      <td id=\"T_24be0_row3_col1\" class=\"data row3 col1\" >(59400, 41)</td>\n",
       "    </tr>\n",
       "    <tr>\n",
       "      <th id=\"T_24be0_level0_row4\" class=\"row_heading level0 row4\" >4</th>\n",
       "      <td id=\"T_24be0_row4_col0\" class=\"data row4 col0\" >Transformed data shape</td>\n",
       "      <td id=\"T_24be0_row4_col1\" class=\"data row4 col1\" >(59400, 73)</td>\n",
       "    </tr>\n",
       "    <tr>\n",
       "      <th id=\"T_24be0_level0_row5\" class=\"row_heading level0 row5\" >5</th>\n",
       "      <td id=\"T_24be0_row5_col0\" class=\"data row5 col0\" >Transformed train set shape</td>\n",
       "      <td id=\"T_24be0_row5_col1\" class=\"data row5 col1\" >(41580, 73)</td>\n",
       "    </tr>\n",
       "    <tr>\n",
       "      <th id=\"T_24be0_level0_row6\" class=\"row_heading level0 row6\" >6</th>\n",
       "      <td id=\"T_24be0_row6_col0\" class=\"data row6 col0\" >Transformed test set shape</td>\n",
       "      <td id=\"T_24be0_row6_col1\" class=\"data row6 col1\" >(17820, 73)</td>\n",
       "    </tr>\n",
       "    <tr>\n",
       "      <th id=\"T_24be0_level0_row7\" class=\"row_heading level0 row7\" >7</th>\n",
       "      <td id=\"T_24be0_row7_col0\" class=\"data row7 col0\" >Ignore features</td>\n",
       "      <td id=\"T_24be0_row7_col1\" class=\"data row7 col1\" >1</td>\n",
       "    </tr>\n",
       "    <tr>\n",
       "      <th id=\"T_24be0_level0_row8\" class=\"row_heading level0 row8\" >8</th>\n",
       "      <td id=\"T_24be0_row8_col0\" class=\"data row8 col0\" >Numeric features</td>\n",
       "      <td id=\"T_24be0_row8_col1\" class=\"data row8 col1\" >9</td>\n",
       "    </tr>\n",
       "    <tr>\n",
       "      <th id=\"T_24be0_level0_row9\" class=\"row_heading level0 row9\" >9</th>\n",
       "      <td id=\"T_24be0_row9_col0\" class=\"data row9 col0\" >Categorical features</td>\n",
       "      <td id=\"T_24be0_row9_col1\" class=\"data row9 col1\" >9</td>\n",
       "    </tr>\n",
       "    <tr>\n",
       "      <th id=\"T_24be0_level0_row10\" class=\"row_heading level0 row10\" >10</th>\n",
       "      <td id=\"T_24be0_row10_col0\" class=\"data row10 col0\" >Rows with missing values</td>\n",
       "      <td id=\"T_24be0_row10_col1\" class=\"data row10 col1\" >53.2%</td>\n",
       "    </tr>\n",
       "    <tr>\n",
       "      <th id=\"T_24be0_level0_row11\" class=\"row_heading level0 row11\" >11</th>\n",
       "      <td id=\"T_24be0_row11_col0\" class=\"data row11 col0\" >Preprocess</td>\n",
       "      <td id=\"T_24be0_row11_col1\" class=\"data row11 col1\" >True</td>\n",
       "    </tr>\n",
       "    <tr>\n",
       "      <th id=\"T_24be0_level0_row12\" class=\"row_heading level0 row12\" >12</th>\n",
       "      <td id=\"T_24be0_row12_col0\" class=\"data row12 col0\" >Imputation type</td>\n",
       "      <td id=\"T_24be0_row12_col1\" class=\"data row12 col1\" >simple</td>\n",
       "    </tr>\n",
       "    <tr>\n",
       "      <th id=\"T_24be0_level0_row13\" class=\"row_heading level0 row13\" >13</th>\n",
       "      <td id=\"T_24be0_row13_col0\" class=\"data row13 col0\" >Numeric imputation</td>\n",
       "      <td id=\"T_24be0_row13_col1\" class=\"data row13 col1\" >mean</td>\n",
       "    </tr>\n",
       "    <tr>\n",
       "      <th id=\"T_24be0_level0_row14\" class=\"row_heading level0 row14\" >14</th>\n",
       "      <td id=\"T_24be0_row14_col0\" class=\"data row14 col0\" >Categorical imputation</td>\n",
       "      <td id=\"T_24be0_row14_col1\" class=\"data row14 col1\" >mode</td>\n",
       "    </tr>\n",
       "    <tr>\n",
       "      <th id=\"T_24be0_level0_row15\" class=\"row_heading level0 row15\" >15</th>\n",
       "      <td id=\"T_24be0_row15_col0\" class=\"data row15 col0\" >Maximum one-hot encoding</td>\n",
       "      <td id=\"T_24be0_row15_col1\" class=\"data row15 col1\" >25</td>\n",
       "    </tr>\n",
       "    <tr>\n",
       "      <th id=\"T_24be0_level0_row16\" class=\"row_heading level0 row16\" >16</th>\n",
       "      <td id=\"T_24be0_row16_col0\" class=\"data row16 col0\" >Encoding method</td>\n",
       "      <td id=\"T_24be0_row16_col1\" class=\"data row16 col1\" >None</td>\n",
       "    </tr>\n",
       "    <tr>\n",
       "      <th id=\"T_24be0_level0_row17\" class=\"row_heading level0 row17\" >17</th>\n",
       "      <td id=\"T_24be0_row17_col0\" class=\"data row17 col0\" >Fold Generator</td>\n",
       "      <td id=\"T_24be0_row17_col1\" class=\"data row17 col1\" >StratifiedKFold</td>\n",
       "    </tr>\n",
       "    <tr>\n",
       "      <th id=\"T_24be0_level0_row18\" class=\"row_heading level0 row18\" >18</th>\n",
       "      <td id=\"T_24be0_row18_col0\" class=\"data row18 col0\" >Fold Number</td>\n",
       "      <td id=\"T_24be0_row18_col1\" class=\"data row18 col1\" >10</td>\n",
       "    </tr>\n",
       "    <tr>\n",
       "      <th id=\"T_24be0_level0_row19\" class=\"row_heading level0 row19\" >19</th>\n",
       "      <td id=\"T_24be0_row19_col0\" class=\"data row19 col0\" >CPU Jobs</td>\n",
       "      <td id=\"T_24be0_row19_col1\" class=\"data row19 col1\" >-1</td>\n",
       "    </tr>\n",
       "    <tr>\n",
       "      <th id=\"T_24be0_level0_row20\" class=\"row_heading level0 row20\" >20</th>\n",
       "      <td id=\"T_24be0_row20_col0\" class=\"data row20 col0\" >Use GPU</td>\n",
       "      <td id=\"T_24be0_row20_col1\" class=\"data row20 col1\" >False</td>\n",
       "    </tr>\n",
       "    <tr>\n",
       "      <th id=\"T_24be0_level0_row21\" class=\"row_heading level0 row21\" >21</th>\n",
       "      <td id=\"T_24be0_row21_col0\" class=\"data row21 col0\" >Log Experiment</td>\n",
       "      <td id=\"T_24be0_row21_col1\" class=\"data row21 col1\" >False</td>\n",
       "    </tr>\n",
       "    <tr>\n",
       "      <th id=\"T_24be0_level0_row22\" class=\"row_heading level0 row22\" >22</th>\n",
       "      <td id=\"T_24be0_row22_col0\" class=\"data row22 col0\" >Experiment Name</td>\n",
       "      <td id=\"T_24be0_row22_col1\" class=\"data row22 col1\" >clf-default-name</td>\n",
       "    </tr>\n",
       "    <tr>\n",
       "      <th id=\"T_24be0_level0_row23\" class=\"row_heading level0 row23\" >23</th>\n",
       "      <td id=\"T_24be0_row23_col0\" class=\"data row23 col0\" >USI</td>\n",
       "      <td id=\"T_24be0_row23_col1\" class=\"data row23 col1\" >9291</td>\n",
       "    </tr>\n",
       "  </tbody>\n",
       "</table>\n"
      ],
      "text/plain": [
       "<pandas.io.formats.style.Styler at 0x292cda350>"
      ]
     },
     "metadata": {},
     "output_type": "display_data"
    }
   ],
   "source": [
    "num_cols = df.select_dtypes(include = np.number).columns.tolist()\n",
    "num_cols.remove(\"id\")\n",
    "num_cols.remove(\"status_group\")\n",
    "\n",
    "cat_cols= df.select_dtypes(exclude = np.number).columns.tolist()\n",
    "cat_cols.remove(\"date_recorded\")\n",
    "cat_cols.remove(\"funder\")\n",
    "cat_cols.remove(\"installer\")\n",
    "cat_cols.remove(\"wpt_name\")\n",
    "cat_cols.remove(\"basin\")\n",
    "\n",
    "\n",
    "exp = setup(data=df, target='status_group', \n",
    "            numeric_features=num_cols, \n",
    "           categorical_features=[\"waterpoint_type_group\",\"date_recorded\",\"installer\",\"wpt_name\",\"basin\",\"subvillage\",\"region\",\n",
    "                                 \"lga\",\"ward\",#\"public_meeting\",\"recorded_by\",\"scheme_management\",\"scheme_name\"\n",
    "                                 ],\n",
    "            ignore_features=['id'])"
   ]
  },
  {
   "cell_type": "code",
   "execution_count": 8,
   "id": "8394aa4a",
   "metadata": {},
   "outputs": [
    {
     "data": {
      "text/html": [],
      "text/plain": [
       "<IPython.core.display.HTML object>"
      ]
     },
     "metadata": {},
     "output_type": "display_data"
    },
    {
     "data": {
      "text/html": [],
      "text/plain": [
       "<IPython.core.display.HTML object>"
      ]
     },
     "metadata": {},
     "output_type": "display_data"
    },
    {
     "data": {
      "application/vnd.jupyter.widget-view+json": {
       "model_id": "e18737104f464569b6e6d6629c03ff1d",
       "version_major": 2,
       "version_minor": 0
      },
      "text/plain": [
       "Processing:   0%|          | 0/65 [00:00<?, ?it/s]"
      ]
     },
     "metadata": {},
     "output_type": "display_data"
    }
   ],
   "source": [
    "best = exp.compare_models()"
   ]
  },
  {
   "cell_type": "code",
   "execution_count": 9,
   "id": "74f8a8a0",
   "metadata": {},
   "outputs": [
    {
     "data": {
      "text/html": [],
      "text/plain": [
       "<IPython.core.display.HTML object>"
      ]
     },
     "metadata": {},
     "output_type": "display_data"
    },
    {
     "data": {
      "image/png": "[encoded data removed]",
      "text/plain": [
       "<Figure size 800x550 with 1 Axes>"
      ]
     },
     "metadata": {},
     "output_type": "display_data"
    }
   ],
   "source": [
    "exp.plot_model(best,\"confusion_matrix\")"
   ]
  },
  {
   "cell_type": "code",
   "execution_count": 10,
   "id": "b06dd126",
   "metadata": {},
   "outputs": [
    {
     "data": {
      "text/html": [],
      "text/plain": [
       "<IPython.core.display.HTML object>"
      ]
     },
     "metadata": {},
     "output_type": "display_data"
    }
   ],
   "source": [
    "pred = exp.predict_model(best,X_test)\n",
    "X_test_labels_pycaret = pred[[\"id\",\"prediction_label\"]]\n",
    "X_test_labels_pycaret[\"prediction_label\"] = le.inverse_transform(X_test_labels_pycaret.prediction_label)\n",
    "X_test_labels_pycaret.rename(columns={\"prediction_label\":\"status_group\"},inplace=True)\n",
    "X_test_labels_pycaret.to_csv(\"Out/predicciones_pycaret1.csv\",index=None,sep=\",\")"
   ]
  },
  {
   "cell_type": "code",
   "execution_count": 11,
   "id": "05fd0732",
   "metadata": {},
   "outputs": [
    {
     "data": {
      "text/html": [
       "<div>\n",
       "<style scoped>\n",
       "    .dataframe tbody tr th:only-of-type {\n",
       "        vertical-align: middle;\n",
       "    }\n",
       "\n",
       "    .dataframe tbody tr th {\n",
       "        vertical-align: top;\n",
       "    }\n",
       "\n",
       "    .dataframe thead th {\n",
       "        text-align: right;\n",
       "    }\n",
       "</style>\n",
       "<table border=\"1\" class=\"dataframe\">\n",
       "  <thead>\n",
       "    <tr style=\"text-align: right;\">\n",
       "      <th></th>\n",
       "      <th>id</th>\n",
       "      <th>status_group</th>\n",
       "    </tr>\n",
       "  </thead>\n",
       "  <tbody>\n",
       "    <tr>\n",
       "      <th>0</th>\n",
       "      <td>50785</td>\n",
       "      <td>functional</td>\n",
       "    </tr>\n",
       "    <tr>\n",
       "      <th>1</th>\n",
       "      <td>51630</td>\n",
       "      <td>non functional</td>\n",
       "    </tr>\n",
       "    <tr>\n",
       "      <th>2</th>\n",
       "      <td>17168</td>\n",
       "      <td>non functional</td>\n",
       "    </tr>\n",
       "    <tr>\n",
       "      <th>3</th>\n",
       "      <td>45559</td>\n",
       "      <td>non functional</td>\n",
       "    </tr>\n",
       "    <tr>\n",
       "      <th>4</th>\n",
       "      <td>49871</td>\n",
       "      <td>functional</td>\n",
       "    </tr>\n",
       "    <tr>\n",
       "      <th>...</th>\n",
       "      <td>...</td>\n",
       "      <td>...</td>\n",
       "    </tr>\n",
       "    <tr>\n",
       "      <th>14845</th>\n",
       "      <td>39307</td>\n",
       "      <td>functional</td>\n",
       "    </tr>\n",
       "    <tr>\n",
       "      <th>14846</th>\n",
       "      <td>18990</td>\n",
       "      <td>functional</td>\n",
       "    </tr>\n",
       "    <tr>\n",
       "      <th>14847</th>\n",
       "      <td>28749</td>\n",
       "      <td>functional</td>\n",
       "    </tr>\n",
       "    <tr>\n",
       "      <th>14848</th>\n",
       "      <td>33492</td>\n",
       "      <td>functional</td>\n",
       "    </tr>\n",
       "    <tr>\n",
       "      <th>14849</th>\n",
       "      <td>68707</td>\n",
       "      <td>non functional</td>\n",
       "    </tr>\n",
       "  </tbody>\n",
       "</table>\n",
       "<p>14850 rows × 2 columns</p>\n",
       "</div>"
      ],
      "text/plain": [
       "          id    status_group\n",
       "0      50785      functional\n",
       "1      51630  non functional\n",
       "2      17168  non functional\n",
       "3      45559  non functional\n",
       "4      49871      functional\n",
       "...      ...             ...\n",
       "14845  39307      functional\n",
       "14846  18990      functional\n",
       "14847  28749      functional\n",
       "14848  33492      functional\n",
       "14849  68707  non functional\n",
       "\n",
       "[14850 rows x 2 columns]"
      ]
     },
     "execution_count": 11,
     "metadata": {},
     "output_type": "execute_result"
    }
   ],
   "source": [
    "pd.read_csv(\"Out/predicciones_pycaret1.csv\")"
   ]
  },
  {
   "cell_type": "code",
   "execution_count": 2,
   "metadata": {},
   "outputs": [],
   "source": [
    "X = pd.read_csv(\"In/Training_set_values.csv\")\n",
    "y = pd.read_csv(\"In/Training_set_labels.csv\")\n",
    "X_test = pd.read_csv(\"In/Test_set_values.csv\")\n",
    "df = pd.merge(X,y,on=\"id\")\n",
    "\n"
   ]
  },
  {
   "cell_type": "code",
   "execution_count": 3,
   "id": "783baa00",
   "metadata": {},
   "outputs": [],
   "source": [
    "for i in X.select_dtypes(include = \"O\").columns:\n",
    "    X[i] = df[i].astype(\"category\")"
   ]
  },
  {
   "cell_type": "code",
   "execution_count": 4,
   "id": "03f59fb0",
   "metadata": {},
   "outputs": [],
   "source": [
    "from sklearn.preprocessing import LabelEncoder\n",
    "le = LabelEncoder()\n",
    "#df.status_group = le.fit_transform(df.status_group)"
   ]
  },
  {
   "cell_type": "code",
   "execution_count": 5,
   "id": "79857121",
   "metadata": {},
   "outputs": [],
   "source": [
    "y[\"status_group\"] = le.fit_transform(y.status_group)\n",
    "\n",
    "drop_list  = [\"management_group\",\"permit\",\"population\",\"amount_tsh\",\"num_private\",\"recorded_by\"]\n",
    "X.drop(drop_list,axis=1,inplace=True)\n",
    "X_test.drop(drop_list,axis=1,inplace=True)\n",
    "\n",
    "cat_cols = X.select_dtypes(exclude=np.number).columns.tolist()\n",
    "num_cols = X.select_dtypes(include=np.number).columns.tolist()\n",
    "\n",
    "\n",
    "cat_cols = X.select_dtypes(exclude=np.number).columns.tolist()\n",
    "cat_cols.append(\"district_code\")\n",
    "cat_cols.append(\"region_code\")\n",
    "\n",
    "num_cols = X.select_dtypes(include=np.number).columns.tolist()\n",
    "num_cols.remove(\"id\")\n",
    "num_cols.remove(\"district_code\")\n",
    "num_cols.remove(\"region_code\")\n",
    "\n",
    "preprocessing = ColumnTransformer([\n",
    "    ('target_enc', TargetEncoder(), cat_cols),  \n",
    "    ('scaler', StandardScaler(), num_cols),  \n",
    "],\n",
    "remainder = \"passthrough\",\n",
    ")\n",
    "X = pd.DataFrame(data=preprocessing.fit_transform(X,y=y.status_group.values), columns=preprocessing.get_feature_names_out())\n",
    "X_test = pd.DataFrame(data=preprocessing.transform(X_test), columns=preprocessing.get_feature_names_out())"
   ]
  },
  {
   "cell_type": "code",
   "execution_count": 8,
   "id": "d46ca117",
   "metadata": {},
   "outputs": [
    {
     "data": {
      "text/html": [
       "<style>#sk-container-id-1 {color: black;background-color: white;}#sk-container-id-1 pre{padding: 0;}#sk-container-id-1 div.sk-toggleable {background-color: white;}#sk-container-id-1 label.sk-toggleable__label {cursor: pointer;display: block;width: 100%;margin-bottom: 0;padding: 0.3em;box-sizing: border-box;text-align: center;}#sk-container-id-1 label.sk-toggleable__label-arrow:before {content: \"▸\";float: left;margin-right: 0.25em;color: #696969;}#sk-container-id-1 label.sk-toggleable__label-arrow:hover:before {color: black;}#sk-container-id-1 div.sk-estimator:hover label.sk-toggleable__label-arrow:before {color: black;}#sk-container-id-1 div.sk-toggleable__content {max-height: 0;max-width: 0;overflow: hidden;text-align: left;background-color: #f0f8ff;}#sk-container-id-1 div.sk-toggleable__content pre {margin: 0.2em;color: black;border-radius: 0.25em;background-color: #f0f8ff;}#sk-container-id-1 input.sk-toggleable__control:checked~div.sk-toggleable__content {max-height: 200px;max-width: 100%;overflow: auto;}#sk-container-id-1 input.sk-toggleable__control:checked~label.sk-toggleable__label-arrow:before {content: \"▾\";}#sk-container-id-1 div.sk-estimator input.sk-toggleable__control:checked~label.sk-toggleable__label {background-color: #d4ebff;}#sk-container-id-1 div.sk-label input.sk-toggleable__control:checked~label.sk-toggleable__label {background-color: #d4ebff;}#sk-container-id-1 input.sk-hidden--visually {border: 0;clip: rect(1px 1px 1px 1px);clip: rect(1px, 1px, 1px, 1px);height: 1px;margin: -1px;overflow: hidden;padding: 0;position: absolute;width: 1px;}#sk-container-id-1 div.sk-estimator {font-family: monospace;background-color: #f0f8ff;border: 1px dotted black;border-radius: 0.25em;box-sizing: border-box;margin-bottom: 0.5em;}#sk-container-id-1 div.sk-estimator:hover {background-color: #d4ebff;}#sk-container-id-1 div.sk-parallel-item::after {content: \"\";width: 100%;border-bottom: 1px solid gray;flex-grow: 1;}#sk-container-id-1 div.sk-label:hover label.sk-toggleable__label {background-color: #d4ebff;}#sk-container-id-1 div.sk-serial::before {content: \"\";position: absolute;border-left: 1px solid gray;box-sizing: border-box;top: 0;bottom: 0;left: 50%;z-index: 0;}#sk-container-id-1 div.sk-serial {display: flex;flex-direction: column;align-items: center;background-color: white;padding-right: 0.2em;padding-left: 0.2em;position: relative;}#sk-container-id-1 div.sk-item {position: relative;z-index: 1;}#sk-container-id-1 div.sk-parallel {display: flex;align-items: stretch;justify-content: center;background-color: white;position: relative;}#sk-container-id-1 div.sk-item::before, #sk-container-id-1 div.sk-parallel-item::before {content: \"\";position: absolute;border-left: 1px solid gray;box-sizing: border-box;top: 0;bottom: 0;left: 50%;z-index: -1;}#sk-container-id-1 div.sk-parallel-item {display: flex;flex-direction: column;z-index: 1;position: relative;background-color: white;}#sk-container-id-1 div.sk-parallel-item:first-child::after {align-self: flex-end;width: 50%;}#sk-container-id-1 div.sk-parallel-item:last-child::after {align-self: flex-start;width: 50%;}#sk-container-id-1 div.sk-parallel-item:only-child::after {width: 0;}#sk-container-id-1 div.sk-dashed-wrapped {border: 1px dashed gray;margin: 0 0.4em 0.5em 0.4em;box-sizing: border-box;padding-bottom: 0.4em;background-color: white;}#sk-container-id-1 div.sk-label label {font-family: monospace;font-weight: bold;display: inline-block;line-height: 1.2em;}#sk-container-id-1 div.sk-label-container {text-align: center;}#sk-container-id-1 div.sk-container {/* jupyter's `normalize.less` sets `[hidden] { display: none; }` but bootstrap.min.css set `[hidden] { display: none !important; }` so we also need the `!important` here to be able to override the default hidden behavior on the sphinx rendered scikit-learn.org. See: https://github.com/scikit-learn/scikit-learn/issues/21755 */display: inline-block !important;position: relative;}#sk-container-id-1 div.sk-text-repr-fallback {display: none;}</style><div id=\"sk-container-id-1\" class=\"sk-top-container\"><div class=\"sk-text-repr-fallback\"><pre>RandomForestClassifier()</pre><b>In a Jupyter environment, please rerun this cell to show the HTML representation or trust the notebook. <br />On GitHub, the HTML representation is unable to render, please try loading this page with nbviewer.org.</b></div><div class=\"sk-container\" hidden><div class=\"sk-item\"><div class=\"sk-estimator sk-toggleable\"><input class=\"sk-toggleable__control sk-hidden--visually\" id=\"sk-estimator-id-1\" type=\"checkbox\" checked><label for=\"sk-estimator-id-1\" class=\"sk-toggleable__label sk-toggleable__label-arrow\">RandomForestClassifier</label><div class=\"sk-toggleable__content\"><pre>RandomForestClassifier()</pre></div></div></div></div></div>"
      ],
      "text/plain": [
       "RandomForestClassifier()"
      ]
     },
     "execution_count": 8,
     "metadata": {},
     "output_type": "execute_result"
    }
   ],
   "source": [
    "rf = RandomForestClassifier()\n",
    "rf.fit(X.to_numpy(),y.status_group.values)"
   ]
  },
  {
   "cell_type": "code",
   "execution_count": 9,
   "id": "ab923aea",
   "metadata": {},
   "outputs": [
    {
     "name": "stderr",
     "output_type": "stream",
     "text": [
      "/Users/juandavid/anaconda3/lib/python3.11/site-packages/sklearn/base.py:432: UserWarning: X has feature names, but RandomForestClassifier was fitted without feature names\n",
      "  warnings.warn(\n"
     ]
    }
   ],
   "source": [
    "X_test[\"predictions\"] = rf.predict(X_test)"
   ]
  },
  {
   "cell_type": "code",
   "execution_count": 10,
   "id": "cf6e4f87",
   "metadata": {},
   "outputs": [],
   "source": [
    "X_test.predictions = le.inverse_transform(X_test.predictions)\n",
    "X_test = X_test[[\"remainder__id\",\"predictions\"]]\n",
    "X_test.remainder__id = X_test.remainder__id.astype(int)\n",
    "\n",
    "X_test.rename({\"remainder__id\":\"id\",\"predictions\":\"status_group\"},axis=1,inplace=True)\n",
    "X_test.to_csv(\"Out/predicciones_TargetEncoderStandardScaler.csv\",index=None,sep=\",\")"
   ]
  },
  {
   "cell_type": "code",
   "execution_count": 82,
   "id": "b98b6a95",
   "metadata": {},
   "outputs": [],
   "source": [
    "X = pd.read_csv(\"In/Training_set_values.csv\")\n",
    "y = pd.read_csv(\"In/Training_set_labels.csv\")\n",
    "X_test = pd.read_csv(\"In/Test_set_values.csv\")\n",
    "df = pd.merge(X,y,on=\"id\")\n",
    "\n",
    "for i in X.select_dtypes(include = \"O\").columns:\n",
    "    X[i] = df[i].astype(\"category\")\n"
   ]
  },
  {
   "cell_type": "code",
   "execution_count": 84,
   "id": "d8e3e74e",
   "metadata": {},
   "outputs": [
    {
     "ename": "ValueError",
     "evalue": "Expected 2D array, got 1D array instead:\narray=['functional' 'functional' 'functional' ... 'functional' 'functional'\n 'functional'].\nReshape your data either using array.reshape(-1, 1) if your data has a single feature or array.reshape(1, -1) if it contains a single sample.",
     "output_type": "error",
     "traceback": [
      "\u001b[0;31m---------------------------------------------------------------------------\u001b[0m",
      "\u001b[0;31mValueError\u001b[0m                                Traceback (most recent call last)",
      "Cell \u001b[0;32mIn[84], line 1\u001b[0m\n\u001b[0;32m----> 1\u001b[0m y[\u001b[38;5;124m\"\u001b[39m\u001b[38;5;124mstatus_group\u001b[39m\u001b[38;5;124m\"\u001b[39m] \u001b[38;5;241m=\u001b[39m le\u001b[38;5;241m.\u001b[39mfit_transform(y\u001b[38;5;241m.\u001b[39mstatus_group)\n\u001b[1;32m      3\u001b[0m drop_list  \u001b[38;5;241m=\u001b[39m [\u001b[38;5;124m\"\u001b[39m\u001b[38;5;124mmanagement_group\u001b[39m\u001b[38;5;124m\"\u001b[39m,\u001b[38;5;124m\"\u001b[39m\u001b[38;5;124mpermit\u001b[39m\u001b[38;5;124m\"\u001b[39m,\u001b[38;5;124m\"\u001b[39m\u001b[38;5;124mpopulation\u001b[39m\u001b[38;5;124m\"\u001b[39m,\u001b[38;5;124m\"\u001b[39m\u001b[38;5;124mamount_tsh\u001b[39m\u001b[38;5;124m\"\u001b[39m,\u001b[38;5;124m\"\u001b[39m\u001b[38;5;124mnum_private\u001b[39m\u001b[38;5;124m\"\u001b[39m,\u001b[38;5;124m\"\u001b[39m\u001b[38;5;124mrecorded_by\u001b[39m\u001b[38;5;124m\"\u001b[39m]\n\u001b[1;32m      4\u001b[0m X\u001b[38;5;241m.\u001b[39mdrop(drop_list,axis\u001b[38;5;241m=\u001b[39m\u001b[38;5;241m1\u001b[39m,inplace\u001b[38;5;241m=\u001b[39m\u001b[38;5;28;01mTrue\u001b[39;00m)\n",
      "File \u001b[0;32m~/anaconda3/lib/python3.11/site-packages/sklearn/utils/_set_output.py:140\u001b[0m, in \u001b[0;36m_wrap_method_output.<locals>.wrapped\u001b[0;34m(self, X, *args, **kwargs)\u001b[0m\n\u001b[1;32m    138\u001b[0m \u001b[38;5;129m@wraps\u001b[39m(f)\n\u001b[1;32m    139\u001b[0m \u001b[38;5;28;01mdef\u001b[39;00m \u001b[38;5;21mwrapped\u001b[39m(\u001b[38;5;28mself\u001b[39m, X, \u001b[38;5;241m*\u001b[39margs, \u001b[38;5;241m*\u001b[39m\u001b[38;5;241m*\u001b[39mkwargs):\n\u001b[0;32m--> 140\u001b[0m     data_to_wrap \u001b[38;5;241m=\u001b[39m f(\u001b[38;5;28mself\u001b[39m, X, \u001b[38;5;241m*\u001b[39margs, \u001b[38;5;241m*\u001b[39m\u001b[38;5;241m*\u001b[39mkwargs)\n\u001b[1;32m    141\u001b[0m     \u001b[38;5;28;01mif\u001b[39;00m \u001b[38;5;28misinstance\u001b[39m(data_to_wrap, \u001b[38;5;28mtuple\u001b[39m):\n\u001b[1;32m    142\u001b[0m         \u001b[38;5;66;03m# only wrap the first output for cross decomposition\u001b[39;00m\n\u001b[1;32m    143\u001b[0m         \u001b[38;5;28;01mreturn\u001b[39;00m (\n\u001b[1;32m    144\u001b[0m             _wrap_data_with_container(method, data_to_wrap[\u001b[38;5;241m0\u001b[39m], X, \u001b[38;5;28mself\u001b[39m),\n\u001b[1;32m    145\u001b[0m             \u001b[38;5;241m*\u001b[39mdata_to_wrap[\u001b[38;5;241m1\u001b[39m:],\n\u001b[1;32m    146\u001b[0m         )\n",
      "File \u001b[0;32m~/anaconda3/lib/python3.11/site-packages/sklearn/base.py:878\u001b[0m, in \u001b[0;36mTransformerMixin.fit_transform\u001b[0;34m(self, X, y, **fit_params)\u001b[0m\n\u001b[1;32m    874\u001b[0m \u001b[38;5;66;03m# non-optimized default implementation; override when a better\u001b[39;00m\n\u001b[1;32m    875\u001b[0m \u001b[38;5;66;03m# method is possible for a given clustering algorithm\u001b[39;00m\n\u001b[1;32m    876\u001b[0m \u001b[38;5;28;01mif\u001b[39;00m y \u001b[38;5;129;01mis\u001b[39;00m \u001b[38;5;28;01mNone\u001b[39;00m:\n\u001b[1;32m    877\u001b[0m     \u001b[38;5;66;03m# fit method of arity 1 (unsupervised transformation)\u001b[39;00m\n\u001b[0;32m--> 878\u001b[0m     \u001b[38;5;28;01mreturn\u001b[39;00m \u001b[38;5;28mself\u001b[39m\u001b[38;5;241m.\u001b[39mfit(X, \u001b[38;5;241m*\u001b[39m\u001b[38;5;241m*\u001b[39mfit_params)\u001b[38;5;241m.\u001b[39mtransform(X)\n\u001b[1;32m    879\u001b[0m \u001b[38;5;28;01melse\u001b[39;00m:\n\u001b[1;32m    880\u001b[0m     \u001b[38;5;66;03m# fit method of arity 2 (supervised transformation)\u001b[39;00m\n\u001b[1;32m    881\u001b[0m     \u001b[38;5;28;01mreturn\u001b[39;00m \u001b[38;5;28mself\u001b[39m\u001b[38;5;241m.\u001b[39mfit(X, y, \u001b[38;5;241m*\u001b[39m\u001b[38;5;241m*\u001b[39mfit_params)\u001b[38;5;241m.\u001b[39mtransform(X)\n",
      "File \u001b[0;32m~/anaconda3/lib/python3.11/site-packages/sklearn/preprocessing/_encoders.py:1303\u001b[0m, in \u001b[0;36mOrdinalEncoder.fit\u001b[0;34m(self, X, y)\u001b[0m\n\u001b[1;32m   1296\u001b[0m     \u001b[38;5;28;01mraise\u001b[39;00m \u001b[38;5;167;01mTypeError\u001b[39;00m(\n\u001b[1;32m   1297\u001b[0m         \u001b[38;5;124m\"\u001b[39m\u001b[38;5;124munknown_value should only be set when \u001b[39m\u001b[38;5;124m\"\u001b[39m\n\u001b[1;32m   1298\u001b[0m         \u001b[38;5;124m\"\u001b[39m\u001b[38;5;124mhandle_unknown is \u001b[39m\u001b[38;5;124m'\u001b[39m\u001b[38;5;124muse_encoded_value\u001b[39m\u001b[38;5;124m'\u001b[39m\u001b[38;5;124m, \u001b[39m\u001b[38;5;124m\"\u001b[39m\n\u001b[1;32m   1299\u001b[0m         \u001b[38;5;124mf\u001b[39m\u001b[38;5;124m\"\u001b[39m\u001b[38;5;124mgot \u001b[39m\u001b[38;5;132;01m{\u001b[39;00m\u001b[38;5;28mself\u001b[39m\u001b[38;5;241m.\u001b[39munknown_value\u001b[38;5;132;01m}\u001b[39;00m\u001b[38;5;124m.\u001b[39m\u001b[38;5;124m\"\u001b[39m\n\u001b[1;32m   1300\u001b[0m     )\n\u001b[1;32m   1302\u001b[0m \u001b[38;5;66;03m# `_fit` will only raise an error when `self.handle_unknown=\"error\"`\u001b[39;00m\n\u001b[0;32m-> 1303\u001b[0m \u001b[38;5;28mself\u001b[39m\u001b[38;5;241m.\u001b[39m_fit(X, handle_unknown\u001b[38;5;241m=\u001b[39m\u001b[38;5;28mself\u001b[39m\u001b[38;5;241m.\u001b[39mhandle_unknown, force_all_finite\u001b[38;5;241m=\u001b[39m\u001b[38;5;124m\"\u001b[39m\u001b[38;5;124mallow-nan\u001b[39m\u001b[38;5;124m\"\u001b[39m)\n\u001b[1;32m   1305\u001b[0m cardinalities \u001b[38;5;241m=\u001b[39m [\u001b[38;5;28mlen\u001b[39m(categories) \u001b[38;5;28;01mfor\u001b[39;00m categories \u001b[38;5;129;01min\u001b[39;00m \u001b[38;5;28mself\u001b[39m\u001b[38;5;241m.\u001b[39mcategories_]\n\u001b[1;32m   1307\u001b[0m \u001b[38;5;66;03m# stores the missing indices per category\u001b[39;00m\n",
      "File \u001b[0;32m~/anaconda3/lib/python3.11/site-packages/sklearn/preprocessing/_encoders.py:74\u001b[0m, in \u001b[0;36m_BaseEncoder._fit\u001b[0;34m(self, X, handle_unknown, force_all_finite, return_counts)\u001b[0m\n\u001b[1;32m     72\u001b[0m \u001b[38;5;28mself\u001b[39m\u001b[38;5;241m.\u001b[39m_check_n_features(X, reset\u001b[38;5;241m=\u001b[39m\u001b[38;5;28;01mTrue\u001b[39;00m)\n\u001b[1;32m     73\u001b[0m \u001b[38;5;28mself\u001b[39m\u001b[38;5;241m.\u001b[39m_check_feature_names(X, reset\u001b[38;5;241m=\u001b[39m\u001b[38;5;28;01mTrue\u001b[39;00m)\n\u001b[0;32m---> 74\u001b[0m X_list, n_samples, n_features \u001b[38;5;241m=\u001b[39m \u001b[38;5;28mself\u001b[39m\u001b[38;5;241m.\u001b[39m_check_X(\n\u001b[1;32m     75\u001b[0m     X, force_all_finite\u001b[38;5;241m=\u001b[39mforce_all_finite\n\u001b[1;32m     76\u001b[0m )\n\u001b[1;32m     77\u001b[0m \u001b[38;5;28mself\u001b[39m\u001b[38;5;241m.\u001b[39mn_features_in_ \u001b[38;5;241m=\u001b[39m n_features\n\u001b[1;32m     79\u001b[0m \u001b[38;5;28;01mif\u001b[39;00m \u001b[38;5;28mself\u001b[39m\u001b[38;5;241m.\u001b[39mcategories \u001b[38;5;241m!=\u001b[39m \u001b[38;5;124m\"\u001b[39m\u001b[38;5;124mauto\u001b[39m\u001b[38;5;124m\"\u001b[39m:\n",
      "File \u001b[0;32m~/anaconda3/lib/python3.11/site-packages/sklearn/preprocessing/_encoders.py:46\u001b[0m, in \u001b[0;36m_BaseEncoder._check_X\u001b[0;34m(self, X, force_all_finite)\u001b[0m\n\u001b[1;32m     33\u001b[0m \u001b[38;5;250m\u001b[39m\u001b[38;5;124;03m\"\"\"\u001b[39;00m\n\u001b[1;32m     34\u001b[0m \u001b[38;5;124;03mPerform custom check_array:\u001b[39;00m\n\u001b[1;32m     35\u001b[0m \u001b[38;5;124;03m- convert list of strings to object dtype\u001b[39;00m\n\u001b[0;32m   (...)\u001b[0m\n\u001b[1;32m     42\u001b[0m \n\u001b[1;32m     43\u001b[0m \u001b[38;5;124;03m\"\"\"\u001b[39;00m\n\u001b[1;32m     44\u001b[0m \u001b[38;5;28;01mif\u001b[39;00m \u001b[38;5;129;01mnot\u001b[39;00m (\u001b[38;5;28mhasattr\u001b[39m(X, \u001b[38;5;124m\"\u001b[39m\u001b[38;5;124miloc\u001b[39m\u001b[38;5;124m\"\u001b[39m) \u001b[38;5;129;01mand\u001b[39;00m \u001b[38;5;28mgetattr\u001b[39m(X, \u001b[38;5;124m\"\u001b[39m\u001b[38;5;124mndim\u001b[39m\u001b[38;5;124m\"\u001b[39m, \u001b[38;5;241m0\u001b[39m) \u001b[38;5;241m==\u001b[39m \u001b[38;5;241m2\u001b[39m):\n\u001b[1;32m     45\u001b[0m     \u001b[38;5;66;03m# if not a dataframe, do normal check_array validation\u001b[39;00m\n\u001b[0;32m---> 46\u001b[0m     X_temp \u001b[38;5;241m=\u001b[39m check_array(X, dtype\u001b[38;5;241m=\u001b[39m\u001b[38;5;28;01mNone\u001b[39;00m, force_all_finite\u001b[38;5;241m=\u001b[39mforce_all_finite)\n\u001b[1;32m     47\u001b[0m     \u001b[38;5;28;01mif\u001b[39;00m \u001b[38;5;129;01mnot\u001b[39;00m \u001b[38;5;28mhasattr\u001b[39m(X, \u001b[38;5;124m\"\u001b[39m\u001b[38;5;124mdtype\u001b[39m\u001b[38;5;124m\"\u001b[39m) \u001b[38;5;129;01mand\u001b[39;00m np\u001b[38;5;241m.\u001b[39missubdtype(X_temp\u001b[38;5;241m.\u001b[39mdtype, np\u001b[38;5;241m.\u001b[39mstr_):\n\u001b[1;32m     48\u001b[0m         X \u001b[38;5;241m=\u001b[39m check_array(X, dtype\u001b[38;5;241m=\u001b[39m\u001b[38;5;28mobject\u001b[39m, force_all_finite\u001b[38;5;241m=\u001b[39mforce_all_finite)\n",
      "File \u001b[0;32m~/anaconda3/lib/python3.11/site-packages/sklearn/utils/validation.py:902\u001b[0m, in \u001b[0;36mcheck_array\u001b[0;34m(array, accept_sparse, accept_large_sparse, dtype, order, copy, force_all_finite, ensure_2d, allow_nd, ensure_min_samples, ensure_min_features, estimator, input_name)\u001b[0m\n\u001b[1;32m    900\u001b[0m     \u001b[38;5;66;03m# If input is 1D raise error\u001b[39;00m\n\u001b[1;32m    901\u001b[0m     \u001b[38;5;28;01mif\u001b[39;00m array\u001b[38;5;241m.\u001b[39mndim \u001b[38;5;241m==\u001b[39m \u001b[38;5;241m1\u001b[39m:\n\u001b[0;32m--> 902\u001b[0m         \u001b[38;5;28;01mraise\u001b[39;00m \u001b[38;5;167;01mValueError\u001b[39;00m(\n\u001b[1;32m    903\u001b[0m             \u001b[38;5;124m\"\u001b[39m\u001b[38;5;124mExpected 2D array, got 1D array instead:\u001b[39m\u001b[38;5;130;01m\\n\u001b[39;00m\u001b[38;5;124marray=\u001b[39m\u001b[38;5;132;01m{}\u001b[39;00m\u001b[38;5;124m.\u001b[39m\u001b[38;5;130;01m\\n\u001b[39;00m\u001b[38;5;124m\"\u001b[39m\n\u001b[1;32m    904\u001b[0m             \u001b[38;5;124m\"\u001b[39m\u001b[38;5;124mReshape your data either using array.reshape(-1, 1) if \u001b[39m\u001b[38;5;124m\"\u001b[39m\n\u001b[1;32m    905\u001b[0m             \u001b[38;5;124m\"\u001b[39m\u001b[38;5;124myour data has a single feature or array.reshape(1, -1) \u001b[39m\u001b[38;5;124m\"\u001b[39m\n\u001b[1;32m    906\u001b[0m             \u001b[38;5;124m\"\u001b[39m\u001b[38;5;124mif it contains a single sample.\u001b[39m\u001b[38;5;124m\"\u001b[39m\u001b[38;5;241m.\u001b[39mformat(array)\n\u001b[1;32m    907\u001b[0m         )\n\u001b[1;32m    909\u001b[0m \u001b[38;5;28;01mif\u001b[39;00m dtype_numeric \u001b[38;5;129;01mand\u001b[39;00m array\u001b[38;5;241m.\u001b[39mdtype\u001b[38;5;241m.\u001b[39mkind \u001b[38;5;129;01min\u001b[39;00m \u001b[38;5;124m\"\u001b[39m\u001b[38;5;124mUSV\u001b[39m\u001b[38;5;124m\"\u001b[39m:\n\u001b[1;32m    910\u001b[0m     \u001b[38;5;28;01mraise\u001b[39;00m \u001b[38;5;167;01mValueError\u001b[39;00m(\n\u001b[1;32m    911\u001b[0m         \u001b[38;5;124m\"\u001b[39m\u001b[38;5;124mdtype=\u001b[39m\u001b[38;5;124m'\u001b[39m\u001b[38;5;124mnumeric\u001b[39m\u001b[38;5;124m'\u001b[39m\u001b[38;5;124m is not compatible with arrays of bytes/strings.\u001b[39m\u001b[38;5;124m\"\u001b[39m\n\u001b[1;32m    912\u001b[0m         \u001b[38;5;124m\"\u001b[39m\u001b[38;5;124mConvert your data to numeric values explicitly instead.\u001b[39m\u001b[38;5;124m\"\u001b[39m\n\u001b[1;32m    913\u001b[0m     )\n",
      "\u001b[0;31mValueError\u001b[0m: Expected 2D array, got 1D array instead:\narray=['functional' 'functional' 'functional' ... 'functional' 'functional'\n 'functional'].\nReshape your data either using array.reshape(-1, 1) if your data has a single feature or array.reshape(1, -1) if it contains a single sample."
     ]
    }
   ],
   "source": [
    "y[\"status_group\"] = le.fit_transform(y.status_group)\n",
    "\n",
    "drop_list  = [\"management_group\",\"permit\",\"population\",\"amount_tsh\",\"num_private\",\"recorded_by\"]\n",
    "X.drop(drop_list,axis=1,inplace=True)\n",
    "X_test.drop(drop_list,axis=1,inplace=True)\n",
    "\n",
    "cat_cols = X.select_dtypes(exclude=np.number).columns.tolist()\n",
    "num_cols = X.select_dtypes(include=np.number).columns.tolist()\n",
    "\n",
    "\n",
    "cat_cols = X.select_dtypes(exclude=np.number).columns.tolist()\n",
    "cat_cols.append(\"district_code\")\n",
    "cat_cols.append(\"region_code\")\n",
    "\n",
    "num_cols = X.select_dtypes(include=np.number).columns.tolist()\n",
    "num_cols.remove(\"id\")\n",
    "num_cols.remove(\"district_code\")\n",
    "num_cols.remove(\"region_code\")\n",
    "\n",
    "preprocessing = ColumnTransformer([\n",
    "    ('target_enc', OrdinalEncoder(handle_unknown=\"use_encoded_value\",\n",
    "                                  unknown_value=10000000,\n",
    "                                  encoded_missing_value =10000000), cat_cols),  \n",
    "    ('scaler', StandardScaler(), num_cols),  \n",
    "],\n",
    "remainder = \"passthrough\",\n",
    ")\n",
    "X = pd.DataFrame(data=preprocessing.fit_transform(X,y=y.status_group.values), columns=preprocessing.get_feature_names_out())\n",
    "X_test = pd.DataFrame(data=preprocessing.transform(X_test), columns=preprocessing.get_feature_names_out())"
   ]
  },
  {
   "cell_type": "code",
   "execution_count": 62,
   "id": "7c9f3dc5",
   "metadata": {},
   "outputs": [
    {
     "data": {
      "text/plain": [
       "target_enc__date_recorded            0\n",
       "target_enc__funder                   0\n",
       "target_enc__installer                0\n",
       "target_enc__wpt_name                 0\n",
       "target_enc__basin                    0\n",
       "target_enc__subvillage               0\n",
       "target_enc__region                   0\n",
       "target_enc__lga                      0\n",
       "target_enc__ward                     0\n",
       "target_enc__public_meeting           0\n",
       "target_enc__scheme_management        0\n",
       "target_enc__scheme_name              0\n",
       "target_enc__extraction_type          0\n",
       "target_enc__extraction_type_group    0\n",
       "target_enc__extraction_type_class    0\n",
       "target_enc__management               0\n",
       "target_enc__payment                  0\n",
       "target_enc__payment_type             0\n",
       "target_enc__water_quality            0\n",
       "target_enc__quality_group            0\n",
       "target_enc__quantity                 0\n",
       "target_enc__quantity_group           0\n",
       "target_enc__source                   0\n",
       "target_enc__source_type              0\n",
       "target_enc__source_class             0\n",
       "target_enc__waterpoint_type          0\n",
       "target_enc__waterpoint_type_group    0\n",
       "target_enc__district_code            0\n",
       "target_enc__region_code              0\n",
       "scaler__gps_height                   0\n",
       "scaler__longitude                    0\n",
       "scaler__latitude                     0\n",
       "scaler__construction_year            0\n",
       "remainder__id                        0\n",
       "dtype: int64"
      ]
     },
     "execution_count": 62,
     "metadata": {},
     "output_type": "execute_result"
    }
   ],
   "source": [
    "X.isna().sum()"
   ]
  },
  {
   "cell_type": "code",
   "execution_count": 63,
   "id": "d2f3cfd6",
   "metadata": {},
   "outputs": [
    {
     "name": "stderr",
     "output_type": "stream",
     "text": [
      "/Users/juandavid/anaconda3/lib/python3.11/site-packages/sklearn/base.py:432: UserWarning: X has feature names, but RandomForestClassifier was fitted without feature names\n",
      "  warnings.warn(\n"
     ]
    }
   ],
   "source": [
    "rf = RandomForestClassifier()\n",
    "rf.fit(X.to_numpy(),y.status_group.values)\n",
    "X_test[\"status_group\"] = rf.predict(X_test)\n",
    "X_test.remainder__id = X_test.remainder__id.astype(int)\n",
    "X_test.rename({\"remainder__id\":\"id\",\"predictions\":\"status_group\"},axis=1,inplace=True)"
   ]
  },
  {
   "cell_type": "code",
   "execution_count": 71,
   "id": "ee452c01",
   "metadata": {},
   "outputs": [],
   "source": [
    "X_test = X_test[[\"id\",\"status_group\"]]\n",
    "X_test.status_group = le.inverse_transform(X_test.status_group)\n",
    "X_test.to_csv(\"Out/predicciones_OrdinalEncoderStandardScaler.csv\",index=None,sep=\",\")\n"
   ]
  },
  {
   "cell_type": "code",
   "execution_count": null,
   "id": "e267ecb6",
   "metadata": {},
   "outputs": [],
   "source": []
  },
  {
   "cell_type": "markdown",
   "id": "0ac635fa",
   "metadata": {},
   "source": [
    "# Con Clusters de location, tenía altas espectativas, pero no dio buen resultado"
   ]
  },
  {
   "cell_type": "code",
   "execution_count": 93,
   "id": "c84da04c",
   "metadata": {},
   "outputs": [
    {
     "name": "stderr",
     "output_type": "stream",
     "text": [
      "/Users/juandavid/anaconda3/lib/python3.11/site-packages/sklearn/base.py:432: UserWarning: X has feature names, but RandomForestClassifier was fitted without feature names\n",
      "  warnings.warn(\n"
     ]
    }
   ],
   "source": [
    "le = OrdinalEncoder()\n",
    "label_enc = LabelEncoder()\n",
    "X= pd.read_csv(\"Out/XReemplazoLongitudeLatitudeConClusters.csv\")\n",
    "y = pd.read_csv(\"In/Training_set_labels.csv\")\n",
    "X_test = pd.read_csv(\"Out/X_testReemplazoLongitudeLatitudeConClusters.csv\")\n",
    "df = pd.merge(X,y,on=\"id\")\n",
    "\n",
    "for i in X.select_dtypes(include = \"O\").columns:\n",
    "    X[i] = df[i].astype(\"category\")\n",
    "    \n",
    "y[\"status_group\"] = label_enc.fit_transform(y.status_group)\n",
    "\n",
    "drop_list  = [\"management_group\",\"permit\",\"population\",\"amount_tsh\",\"num_private\",\"recorded_by\"]\n",
    "X.drop(drop_list,axis=1,inplace=True)\n",
    "X_test.drop(drop_list,axis=1,inplace=True)\n",
    "\n",
    "cat_cols = X.select_dtypes(exclude=np.number).columns.tolist()\n",
    "num_cols = X.select_dtypes(include=np.number).columns.tolist()\n",
    "\n",
    "\n",
    "cat_cols = X.select_dtypes(exclude=np.number).columns.tolist()\n",
    "cat_cols.append(\"district_code\")\n",
    "cat_cols.append(\"region_code\")\n",
    "\n",
    "num_cols = X.select_dtypes(include=np.number).columns.tolist()\n",
    "num_cols.remove(\"id\")\n",
    "num_cols.remove(\"district_code\")\n",
    "num_cols.remove(\"region_code\")\n",
    "\n",
    "preprocessing = ColumnTransformer([\n",
    "    ('target_enc', OrdinalEncoder(handle_unknown=\"use_encoded_value\",\n",
    "                                  unknown_value=10000000,\n",
    "                                  encoded_missing_value =10000000), cat_cols),  \n",
    "    ('scaler', StandardScaler(), num_cols),  \n",
    "],\n",
    "remainder = \"passthrough\",\n",
    ")\n",
    "X = pd.DataFrame(data=preprocessing.fit_transform(X,y=y.status_group.values), columns=preprocessing.get_feature_names_out())\n",
    "X_test = pd.DataFrame(data=preprocessing.transform(X_test), columns=preprocessing.get_feature_names_out())\n",
    "\n",
    "rf = RandomForestClassifier()\n",
    "rf.fit(X.to_numpy(),y.status_group.values)\n",
    "X_test[\"status_group\"] = rf.predict(X_test)\n",
    "X_test.remainder__id = X_test.remainder__id.astype(int)\n",
    "X_test.rename({\"remainder__id\":\"id\",\"predictions\":\"status_group\"},axis=1,inplace=True)\n"
   ]
  },
  {
   "cell_type": "code",
   "execution_count": 96,
   "id": "5fac16cc",
   "metadata": {},
   "outputs": [
    {
     "ename": "ValueError",
     "evalue": "y contains previously unseen labels: ['functional' 'functional needs repair' 'non functional']",
     "output_type": "error",
     "traceback": [
      "\u001b[0;31m---------------------------------------------------------------------------\u001b[0m",
      "\u001b[0;31mValueError\u001b[0m                                Traceback (most recent call last)",
      "Cell \u001b[0;32mIn[96], line 2\u001b[0m\n\u001b[1;32m      1\u001b[0m X_test \u001b[38;5;241m=\u001b[39m X_test[[\u001b[38;5;124m\"\u001b[39m\u001b[38;5;124mid\u001b[39m\u001b[38;5;124m\"\u001b[39m,\u001b[38;5;124m\"\u001b[39m\u001b[38;5;124mstatus_group\u001b[39m\u001b[38;5;124m\"\u001b[39m]]\n\u001b[0;32m----> 2\u001b[0m X_test\u001b[38;5;241m.\u001b[39mstatus_group \u001b[38;5;241m=\u001b[39m label_enc\u001b[38;5;241m.\u001b[39minverse_transform(X_test\u001b[38;5;241m.\u001b[39mstatus_group)\n\u001b[1;32m      3\u001b[0m X_test\u001b[38;5;241m.\u001b[39mto_csv(\u001b[38;5;124m\"\u001b[39m\u001b[38;5;124mOut/predicciones_OrdinalEncoderStandardScaler7ClustersLoc.csv\u001b[39m\u001b[38;5;124m\"\u001b[39m,index\u001b[38;5;241m=\u001b[39m\u001b[38;5;28;01mNone\u001b[39;00m,sep\u001b[38;5;241m=\u001b[39m\u001b[38;5;124m\"\u001b[39m\u001b[38;5;124m,\u001b[39m\u001b[38;5;124m\"\u001b[39m)\n\u001b[1;32m      4\u001b[0m X_test\n",
      "File \u001b[0;32m~/anaconda3/lib/python3.11/site-packages/sklearn/preprocessing/_label.py:162\u001b[0m, in \u001b[0;36mLabelEncoder.inverse_transform\u001b[0;34m(self, y)\u001b[0m\n\u001b[1;32m    160\u001b[0m diff \u001b[38;5;241m=\u001b[39m np\u001b[38;5;241m.\u001b[39msetdiff1d(y, np\u001b[38;5;241m.\u001b[39marange(\u001b[38;5;28mlen\u001b[39m(\u001b[38;5;28mself\u001b[39m\u001b[38;5;241m.\u001b[39mclasses_)))\n\u001b[1;32m    161\u001b[0m \u001b[38;5;28;01mif\u001b[39;00m \u001b[38;5;28mlen\u001b[39m(diff):\n\u001b[0;32m--> 162\u001b[0m     \u001b[38;5;28;01mraise\u001b[39;00m \u001b[38;5;167;01mValueError\u001b[39;00m(\u001b[38;5;124m\"\u001b[39m\u001b[38;5;124my contains previously unseen labels: \u001b[39m\u001b[38;5;132;01m%s\u001b[39;00m\u001b[38;5;124m\"\u001b[39m \u001b[38;5;241m%\u001b[39m \u001b[38;5;28mstr\u001b[39m(diff))\n\u001b[1;32m    163\u001b[0m y \u001b[38;5;241m=\u001b[39m np\u001b[38;5;241m.\u001b[39masarray(y)\n\u001b[1;32m    164\u001b[0m \u001b[38;5;28;01mreturn\u001b[39;00m \u001b[38;5;28mself\u001b[39m\u001b[38;5;241m.\u001b[39mclasses_[y]\n",
      "\u001b[0;31mValueError\u001b[0m: y contains previously unseen labels: ['functional' 'functional needs repair' 'non functional']"
     ]
    }
   ],
   "source": [
    "X_test = X_test[[\"id\",\"status_group\"]]\n",
    "X_test.status_group = label_enc.inverse_transform(X_test.status_group)\n",
    "X_test.to_csv(\"Out/predicciones_OrdinalEncoderStandardScaler7ClustersLoc.csv\",index=None,sep=\",\")"
   ]
  },
  {
   "cell_type": "code",
   "execution_count": null,
   "id": "a425e800",
   "metadata": {},
   "outputs": [],
   "source": [
    "# GradientBoosting da buenos resultados en cross_validate"
   ]
  },
  {
   "cell_type": "code",
   "execution_count": 2,
   "id": "bb876184",
   "metadata": {},
   "outputs": [],
   "source": [
    "X = pd.read_csv(\"In/Training_set_values.csv\")\n",
    "y = pd.read_csv(\"In/Training_set_labels.csv\")\n",
    "X_test = pd.read_csv(\"In/Test_set_values.csv\")\n",
    "df = pd.merge(X,y,on=\"id\")\n",
    "\n",
    "for i in X.select_dtypes(include = \"O\").columns:\n",
    "    X[i] = df[i].astype(\"category\")\n"
   ]
  },
  {
   "cell_type": "code",
   "execution_count": 6,
   "id": "ffb4c1a3",
   "metadata": {},
   "outputs": [],
   "source": [
    "le= LabelEncoder()\n",
    "y[\"status_group\"] = le.fit_transform(y.status_group)\n",
    "\n",
    "drop_list  = [\"management_group\",\"permit\",\"population\",\"amount_tsh\",\"num_private\",\"recorded_by\"]\n",
    "X.drop(drop_list,axis=1,inplace=True)\n",
    "X_test.drop(drop_list,axis=1,inplace=True)\n",
    "\n",
    "cat_cols = X.select_dtypes(exclude=np.number).columns.tolist()\n",
    "num_cols = X.select_dtypes(include=np.number).columns.tolist()\n",
    "\n",
    "\n",
    "cat_cols = X.select_dtypes(exclude=np.number).columns.tolist()\n",
    "cat_cols.append(\"district_code\")\n",
    "cat_cols.append(\"region_code\")\n",
    "\n",
    "num_cols = X.select_dtypes(include=np.number).columns.tolist()\n",
    "num_cols.remove(\"id\")\n",
    "num_cols.remove(\"district_code\")\n",
    "num_cols.remove(\"region_code\")\n",
    "\n",
    "preprocessing = ColumnTransformer([\n",
    "    ('target_enc', OrdinalEncoder(handle_unknown=\"use_encoded_value\",\n",
    "                                  unknown_value=10000000,\n",
    "                                  encoded_missing_value =10000000), cat_cols),  \n",
    "    ('scaler', StandardScaler(), num_cols),  \n",
    "],\n",
    "remainder = \"passthrough\",\n",
    ")\n",
    "X = pd.DataFrame(data=preprocessing.fit_transform(X,y=y.status_group.values), columns=preprocessing.get_feature_names_out())\n",
    "X_test = pd.DataFrame(data=preprocessing.transform(X_test), columns=preprocessing.get_feature_names_out())"
   ]
  },
  {
   "cell_type": "code",
   "execution_count": 8,
   "id": "5ac3a031",
   "metadata": {},
   "outputs": [
    {
     "name": "stderr",
     "output_type": "stream",
     "text": [
      "/Users/juandavid/anaconda3/lib/python3.11/site-packages/sklearn/base.py:432: UserWarning: X has feature names, but GradientBoostingClassifier was fitted without feature names\n",
      "  warnings.warn(\n"
     ]
    }
   ],
   "source": [
    "gradBoost = GradientBoostingClassifier()\n",
    "gradBoost.fit(X.to_numpy(),y.status_group.values)\n",
    "X_test[\"status_group\"] = gradBoost.predict(X_test)\n",
    "X_test.remainder__id = X_test.remainder__id.astype(int)\n",
    "X_test.rename({\"remainder__id\":\"id\",\"predictions\":\"status_group\"},axis=1,inplace=True)"
   ]
  },
  {
   "cell_type": "code",
   "execution_count": 9,
   "id": "f6ef1f5c",
   "metadata": {},
   "outputs": [],
   "source": [
    "X_test = X_test[[\"id\",\"status_group\"]]\n",
    "X_test.status_group = le.inverse_transform(X_test.status_group)\n",
    "X_test.to_csv(\"Out/GradBoostpredicciones_OrdinalEncoderStandardScaler.csv\",index=None,sep=\",\")"
   ]
  },
  {
   "cell_type": "markdown",
   "id": "bfd7b6d2",
   "metadata": {},
   "source": [
    "# Empiezo a probra resampling"
   ]
  },
  {
   "cell_type": "markdown",
   "id": "2b0f443d",
   "metadata": {},
   "source": [
    "## SMOTE not majority"
   ]
  },
  {
   "cell_type": "code",
   "execution_count": 16,
   "id": "7ca558b8",
   "metadata": {},
   "outputs": [
    {
     "name": "stderr",
     "output_type": "stream",
     "text": [
      "/Users/juandavid/anaconda3/lib/python3.11/site-packages/sklearn/base.py:432: UserWarning: X has feature names, but RandomForestClassifier was fitted without feature names\n",
      "  warnings.warn(\n"
     ]
    }
   ],
   "source": [
    "X = pd.read_csv(\"In/Training_set_values.csv\")\n",
    "y = pd.read_csv(\"In/Training_set_labels.csv\")\n",
    "X_test = pd.read_csv(\"In/Test_set_values.csv\")\n",
    "df = pd.merge(X,y,on=\"id\")\n",
    "sm = SMOTE(random_state=23,sampling_strategy = \"not majority\")\n",
    "\n",
    "for i in X.select_dtypes(include = \"O\").columns:\n",
    "    X[i] = df[i].astype(\"category\")\n",
    "\n",
    "le= LabelEncoder()\n",
    "y[\"status_group\"] = le.fit_transform(y.status_group)\n",
    "\n",
    "drop_list  = [\"management_group\",\"permit\",\"population\",\"amount_tsh\",\"num_private\",\"recorded_by\"]\n",
    "X.drop(drop_list,axis=1,inplace=True)\n",
    "X_test.drop(drop_list,axis=1,inplace=True)\n",
    "\n",
    "cat_cols = X.select_dtypes(exclude=np.number).columns.tolist()\n",
    "num_cols = X.select_dtypes(include=np.number).columns.tolist()\n",
    "\n",
    "\n",
    "cat_cols = X.select_dtypes(exclude=np.number).columns.tolist()\n",
    "cat_cols.append(\"district_code\")\n",
    "cat_cols.append(\"region_code\")\n",
    "\n",
    "num_cols = X.select_dtypes(include=np.number).columns.tolist()\n",
    "num_cols.remove(\"id\")\n",
    "num_cols.remove(\"district_code\")\n",
    "num_cols.remove(\"region_code\")\n",
    "\n",
    "preprocessing = ColumnTransformer([\n",
    "    ('target_enc', OrdinalEncoder(handle_unknown=\"use_encoded_value\",\n",
    "                                  unknown_value=10000000,\n",
    "                                  encoded_missing_value =10000000), cat_cols),  \n",
    "    ('scaler', StandardScaler(), num_cols),  \n",
    "],\n",
    "remainder = \"passthrough\",\n",
    ")\n",
    "X = pd.DataFrame(data=preprocessing.fit_transform(X,y=y.status_group.values), columns=preprocessing.get_feature_names_out())\n",
    "X_test = pd.DataFrame(data=preprocessing.transform(X_test), columns=preprocessing.get_feature_names_out())\n",
    "\n",
    "X, y = sm.fit_resample(X, y.status_group.values)\n",
    "\n",
    "rf = RandomForestClassifier()\n",
    "rf.fit(X.to_numpy(),y)\n",
    "X_test[\"status_group\"] = rf.predict(X_test)\n",
    "X_test.remainder__id = X_test.remainder__id.astype(int)\n",
    "X_test.rename({\"remainder__id\":\"id\",\"predictions\":\"status_group\"},axis=1,inplace=True)"
   ]
  },
  {
   "cell_type": "code",
   "execution_count": 17,
   "id": "6d33073c",
   "metadata": {},
   "outputs": [],
   "source": [
    "X_test = X_test[[\"id\",\"status_group\"]]\n",
    "X_test.status_group = le.inverse_transform(X_test.status_group)\n",
    "X_test.to_csv(\"Out/RandomForestSMOTEnot_majority.csv\",index=None,sep=\",\")"
   ]
  },
  {
   "cell_type": "markdown",
   "id": "98a73c87",
   "metadata": {},
   "source": [
    "## SMOTE minority"
   ]
  },
  {
   "cell_type": "code",
   "execution_count": 19,
   "id": "bf01acf4",
   "metadata": {},
   "outputs": [
    {
     "name": "stderr",
     "output_type": "stream",
     "text": [
      "/Users/juandavid/anaconda3/lib/python3.11/site-packages/sklearn/base.py:432: UserWarning: X has feature names, but RandomForestClassifier was fitted without feature names\n",
      "  warnings.warn(\n"
     ]
    }
   ],
   "source": [
    "X = pd.read_csv(\"In/Training_set_values.csv\")\n",
    "y = pd.read_csv(\"In/Training_set_labels.csv\")\n",
    "X_test = pd.read_csv(\"In/Test_set_values.csv\")\n",
    "df = pd.merge(X,y,on=\"id\")\n",
    "sm = SMOTE(random_state=23,sampling_strategy = \"minority\")\n",
    "\n",
    "for i in X.select_dtypes(include = \"O\").columns:\n",
    "    X[i] = df[i].astype(\"category\")\n",
    "\n",
    "le= LabelEncoder()\n",
    "y[\"status_group\"] = le.fit_transform(y.status_group)\n",
    "\n",
    "drop_list  = [\"management_group\",\"permit\",\"population\",\"amount_tsh\",\"num_private\",\"recorded_by\"]\n",
    "X.drop(drop_list,axis=1,inplace=True)\n",
    "X_test.drop(drop_list,axis=1,inplace=True)\n",
    "\n",
    "cat_cols = X.select_dtypes(exclude=np.number).columns.tolist()\n",
    "num_cols = X.select_dtypes(include=np.number).columns.tolist()\n",
    "\n",
    "\n",
    "cat_cols = X.select_dtypes(exclude=np.number).columns.tolist()\n",
    "cat_cols.append(\"district_code\")\n",
    "cat_cols.append(\"region_code\")\n",
    "\n",
    "num_cols = X.select_dtypes(include=np.number).columns.tolist()\n",
    "num_cols.remove(\"id\")\n",
    "num_cols.remove(\"district_code\")\n",
    "num_cols.remove(\"region_code\")\n",
    "\n",
    "preprocessing = ColumnTransformer([\n",
    "    ('target_enc', OrdinalEncoder(handle_unknown=\"use_encoded_value\",\n",
    "                                  unknown_value=10000000,\n",
    "                                  encoded_missing_value =10000000), cat_cols),  \n",
    "    ('scaler', StandardScaler(), num_cols),  \n",
    "],\n",
    "remainder = \"passthrough\",\n",
    ")\n",
    "X = pd.DataFrame(data=preprocessing.fit_transform(X,y=y.status_group.values), columns=preprocessing.get_feature_names_out())\n",
    "X_test = pd.DataFrame(data=preprocessing.transform(X_test), columns=preprocessing.get_feature_names_out())\n",
    "\n",
    "X, y = sm.fit_resample(X, y.status_group.values)\n",
    "\n",
    "rf = RandomForestClassifier()\n",
    "rf.fit(X.to_numpy(),y)\n",
    "X_test[\"status_group\"] = rf.predict(X_test)\n",
    "X_test.remainder__id = X_test.remainder__id.astype(int)\n",
    "X_test.rename({\"remainder__id\":\"id\",\"predictions\":\"status_group\"},axis=1,inplace=True)"
   ]
  },
  {
   "cell_type": "code",
   "execution_count": 20,
   "id": "04c0bfbd",
   "metadata": {},
   "outputs": [],
   "source": [
    "X_test = X_test[[\"id\",\"status_group\"]]\n",
    "X_test.status_group = le.inverse_transform(X_test.status_group)\n",
    "X_test.to_csv(\"Out/RandomForestSMOTEminority.csv\",index=None,sep=\",\")"
   ]
  },
  {
   "cell_type": "code",
   "execution_count": null,
   "id": "c6d1dbc7",
   "metadata": {},
   "outputs": [],
   "source": [
    "# queda por intentar con más técnicas, dejando clusters y continuas"
   ]
  }
 ],
 "metadata": {
  "kernelspec": {
   "display_name": "Python 3 (ipykernel)",
   "language": "python",
   "name": "python3"
  },
  "language_info": {
   "codemirror_mode": {
    "name": "ipython",
    "version": 3
   },
   "file_extension": ".py",
   "mimetype": "text/x-python",
   "name": "python",
   "nbconvert_exporter": "python",
   "pygments_lexer": "ipython3",
   "version": "3.11.8"
  }
 },
 "nbformat": 4,
 "nbformat_minor": 5
}
